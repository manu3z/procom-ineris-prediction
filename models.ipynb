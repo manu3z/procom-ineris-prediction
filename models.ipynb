{
 "cells": [
  {
   "cell_type": "markdown",
   "metadata": {},
   "source": [
    "\n",
    "# **Models**\n",
    "# "
   ]
  },
  {
   "cell_type": "markdown",
   "metadata": {},
   "source": [
    "## Import data"
   ]
  },
  {
   "cell_type": "code",
   "execution_count": 1,
   "metadata": {},
   "outputs": [],
   "source": [
    "import pandas as pd\n",
    "import numpy as np\n",
    "import matplotlib.pyplot as plt"
   ]
  },
  {
   "cell_type": "code",
   "execution_count": 2,
   "metadata": {
    "scrolled": false
   },
   "outputs": [
    {
     "name": "stdout",
     "output_type": "stream",
     "text": [
      "(5226813, 20)\n",
      "Index(['Id', 'Id_G', 'lon', 'lat', 'snap3', 'EmisAnneeKg', 'Id_Lin', 'Id_Col',\n",
      "       'Id_Lin_G', 'Id_Col_G', 'EmisAnneeKgSum', 'sum_pop',\n",
      "       'trafficvol_sum_MR', 'trafficvol_sum_FC', 'trafficvol_sum_SC',\n",
      "       'Class_0', 'Class_1', 'Class_2', 'Class_3', 'proportion'],\n",
      "      dtype='object')\n"
     ]
    }
   ],
   "source": [
    "path = \"./output/france_N02_all.csv\"\n",
    "df = pd.read_csv(path, sep = ',', decimal='.')#, encoding= 'unicode_escape', on_bad_lines='skip',)\n",
    "print(df.shape)\n",
    "print(df.columns)"
   ]
  },
  {
   "attachments": {},
   "cell_type": "markdown",
   "metadata": {},
   "source": [
    "## Choose Vehicle Type"
   ]
  },
  {
   "cell_type": "code",
   "execution_count": 3,
   "metadata": {},
   "outputs": [],
   "source": [
    "vehicle = 'all'\n",
    "# vehicle = 70203"
   ]
  },
  {
   "cell_type": "code",
   "execution_count": 4,
   "metadata": {},
   "outputs": [
    {
     "name": "stdout",
     "output_type": "stream",
     "text": [
      "(2370695, 18)\n"
     ]
    }
   ],
   "source": [
    "if vehicle == 'all':\n",
    "        # Choose all vehicules:\n",
    "        df = df.groupby(by=[\"Id\"]).agg({\"Id\":np.mean, \"lon\":np.mean, \"lat\":np.mean, 'Id_Lin':np.mean, 'Id_Col':np.mean, 'Id_Lin_G':np.mean,\n",
    "        'Id_Col_G':np.mean, 'Id_G':np.mean, 'sum_pop':np.mean, 'Class_0':np.mean, 'Class_1':np.mean,\n",
    "        'Class_2':np.mean, 'Class_3':np.mean, \"trafficvol_sum_MR\": np.mean,\n",
    "                \"trafficvol_sum_FC\":np.mean, \"trafficvol_sum_SC\": np.mean, \"proportion\": np.sum, \"EmisAnneeKgSum\": np.sum,})\n",
    "        print(df.shape)\n",
    "else:\n",
    "        # OR choose a single vehicle\n",
    "        df = df[df[\"snap3\"]==vehicle]\n",
    "        # Recalculate sum and proportion\n",
    "        df2 = df.groupby(['Id_G'])['EmisAnneeKg'].sum().reset_index()\n",
    "        df2 = df2.rename(columns={\"EmisAnneeKg\": \"EmisAnneeKgSum\"})\n",
    "        df.drop('EmisAnneeKgSum', axis=1)\n",
    "        df = df.merge(df2, how='left', on=\"Id_G\")\n",
    "        df = df.rename(columns={\"EmisAnneeKgSum_y\": \"EmisAnneeKgSum\"})\n",
    "        df[\"proportion\"] = df[\"EmisAnneeKg\"]/df[\"EmisAnneeKgSum\"]\n",
    "        df[\"proportion\"].fillna(0,inplace=True)\n",
    "\n",
    "# Roads calculation\n",
    "column_names = ['trafficvol_sum_MR', 'trafficvol_sum_FC', 'trafficvol_sum_SC']\n",
    "df['trafficvol_sum_total']= df[column_names].sum(axis=1)\n",
    "\n",
    "# Add column of the log of the parameter we search to predict and of other variables\n",
    "df[\"Log_proportion\"] = np.log(df[\"proportion\"]+1)\n",
    "df[\"Log_sum_pop\"] = np.log(df[\"sum_pop\"]+1)\n",
    "df[\"Log_trafficvol_sum_SC\"] = np.log(df[\"trafficvol_sum_SC\"]+1)\n",
    "df[\"Log_trafficvol_sum_total\"] = np.log(df[\"trafficvol_sum_total\"]+1)\n",
    "\n",
    "# Format proportion\n",
    "df['proportion'] = pd.to_numeric(df['proportion'].map('{:.5f}'.format))"
   ]
  },
  {
   "cell_type": "code",
   "execution_count": 5,
   "metadata": {},
   "outputs": [
    {
     "data": {
      "text/html": [
       "<div>\n",
       "<style scoped>\n",
       "    .dataframe tbody tr th:only-of-type {\n",
       "        vertical-align: middle;\n",
       "    }\n",
       "\n",
       "    .dataframe tbody tr th {\n",
       "        vertical-align: top;\n",
       "    }\n",
       "\n",
       "    .dataframe thead th {\n",
       "        text-align: right;\n",
       "    }\n",
       "</style>\n",
       "<table border=\"1\" class=\"dataframe\">\n",
       "  <thead>\n",
       "    <tr style=\"text-align: right;\">\n",
       "      <th></th>\n",
       "      <th>Id</th>\n",
       "      <th>lon</th>\n",
       "      <th>lat</th>\n",
       "      <th>Id_Lin</th>\n",
       "      <th>Id_Col</th>\n",
       "      <th>Id_Lin_G</th>\n",
       "      <th>Id_Col_G</th>\n",
       "      <th>Id_G</th>\n",
       "      <th>sum_pop</th>\n",
       "      <th>Class_0</th>\n",
       "      <th>...</th>\n",
       "      <th>trafficvol_sum_MR</th>\n",
       "      <th>trafficvol_sum_FC</th>\n",
       "      <th>trafficvol_sum_SC</th>\n",
       "      <th>proportion</th>\n",
       "      <th>EmisAnneeKgSum</th>\n",
       "      <th>trafficvol_sum_total</th>\n",
       "      <th>Log_proportion</th>\n",
       "      <th>Log_sum_pop</th>\n",
       "      <th>Log_trafficvol_sum_SC</th>\n",
       "      <th>Log_trafficvol_sum_total</th>\n",
       "    </tr>\n",
       "    <tr>\n",
       "      <th>Id</th>\n",
       "      <th></th>\n",
       "      <th></th>\n",
       "      <th></th>\n",
       "      <th></th>\n",
       "      <th></th>\n",
       "      <th></th>\n",
       "      <th></th>\n",
       "      <th></th>\n",
       "      <th></th>\n",
       "      <th></th>\n",
       "      <th></th>\n",
       "      <th></th>\n",
       "      <th></th>\n",
       "      <th></th>\n",
       "      <th></th>\n",
       "      <th></th>\n",
       "      <th></th>\n",
       "      <th></th>\n",
       "      <th></th>\n",
       "      <th></th>\n",
       "      <th></th>\n",
       "    </tr>\n",
       "  </thead>\n",
       "  <tbody>\n",
       "    <tr>\n",
       "      <th>1</th>\n",
       "      <td>1.0</td>\n",
       "      <td>-5.17</td>\n",
       "      <td>41.33</td>\n",
       "      <td>1.0</td>\n",
       "      <td>1.0</td>\n",
       "      <td>0.0</td>\n",
       "      <td>0.0</td>\n",
       "      <td>1.0</td>\n",
       "      <td>0.0</td>\n",
       "      <td>1.0</td>\n",
       "      <td>...</td>\n",
       "      <td>0.0</td>\n",
       "      <td>0.0</td>\n",
       "      <td>0.0</td>\n",
       "      <td>0.0</td>\n",
       "      <td>0.0</td>\n",
       "      <td>0.0</td>\n",
       "      <td>0.0</td>\n",
       "      <td>0.0</td>\n",
       "      <td>0.0</td>\n",
       "      <td>0.0</td>\n",
       "    </tr>\n",
       "    <tr>\n",
       "      <th>2</th>\n",
       "      <td>2.0</td>\n",
       "      <td>-5.16</td>\n",
       "      <td>41.33</td>\n",
       "      <td>1.0</td>\n",
       "      <td>2.0</td>\n",
       "      <td>0.0</td>\n",
       "      <td>0.0</td>\n",
       "      <td>1.0</td>\n",
       "      <td>0.0</td>\n",
       "      <td>1.0</td>\n",
       "      <td>...</td>\n",
       "      <td>0.0</td>\n",
       "      <td>0.0</td>\n",
       "      <td>0.0</td>\n",
       "      <td>0.0</td>\n",
       "      <td>0.0</td>\n",
       "      <td>0.0</td>\n",
       "      <td>0.0</td>\n",
       "      <td>0.0</td>\n",
       "      <td>0.0</td>\n",
       "      <td>0.0</td>\n",
       "    </tr>\n",
       "    <tr>\n",
       "      <th>3</th>\n",
       "      <td>3.0</td>\n",
       "      <td>-5.15</td>\n",
       "      <td>41.33</td>\n",
       "      <td>1.0</td>\n",
       "      <td>3.0</td>\n",
       "      <td>0.0</td>\n",
       "      <td>0.0</td>\n",
       "      <td>1.0</td>\n",
       "      <td>0.0</td>\n",
       "      <td>1.0</td>\n",
       "      <td>...</td>\n",
       "      <td>0.0</td>\n",
       "      <td>0.0</td>\n",
       "      <td>0.0</td>\n",
       "      <td>0.0</td>\n",
       "      <td>0.0</td>\n",
       "      <td>0.0</td>\n",
       "      <td>0.0</td>\n",
       "      <td>0.0</td>\n",
       "      <td>0.0</td>\n",
       "      <td>0.0</td>\n",
       "    </tr>\n",
       "    <tr>\n",
       "      <th>4</th>\n",
       "      <td>4.0</td>\n",
       "      <td>-5.14</td>\n",
       "      <td>41.33</td>\n",
       "      <td>1.0</td>\n",
       "      <td>4.0</td>\n",
       "      <td>0.0</td>\n",
       "      <td>0.0</td>\n",
       "      <td>1.0</td>\n",
       "      <td>0.0</td>\n",
       "      <td>1.0</td>\n",
       "      <td>...</td>\n",
       "      <td>0.0</td>\n",
       "      <td>0.0</td>\n",
       "      <td>0.0</td>\n",
       "      <td>0.0</td>\n",
       "      <td>0.0</td>\n",
       "      <td>0.0</td>\n",
       "      <td>0.0</td>\n",
       "      <td>0.0</td>\n",
       "      <td>0.0</td>\n",
       "      <td>0.0</td>\n",
       "    </tr>\n",
       "    <tr>\n",
       "      <th>5</th>\n",
       "      <td>5.0</td>\n",
       "      <td>-5.14</td>\n",
       "      <td>41.33</td>\n",
       "      <td>1.0</td>\n",
       "      <td>5.0</td>\n",
       "      <td>0.0</td>\n",
       "      <td>0.0</td>\n",
       "      <td>1.0</td>\n",
       "      <td>0.0</td>\n",
       "      <td>1.0</td>\n",
       "      <td>...</td>\n",
       "      <td>0.0</td>\n",
       "      <td>0.0</td>\n",
       "      <td>0.0</td>\n",
       "      <td>0.0</td>\n",
       "      <td>0.0</td>\n",
       "      <td>0.0</td>\n",
       "      <td>0.0</td>\n",
       "      <td>0.0</td>\n",
       "      <td>0.0</td>\n",
       "      <td>0.0</td>\n",
       "    </tr>\n",
       "    <tr>\n",
       "      <th>...</th>\n",
       "      <td>...</td>\n",
       "      <td>...</td>\n",
       "      <td>...</td>\n",
       "      <td>...</td>\n",
       "      <td>...</td>\n",
       "      <td>...</td>\n",
       "      <td>...</td>\n",
       "      <td>...</td>\n",
       "      <td>...</td>\n",
       "      <td>...</td>\n",
       "      <td>...</td>\n",
       "      <td>...</td>\n",
       "      <td>...</td>\n",
       "      <td>...</td>\n",
       "      <td>...</td>\n",
       "      <td>...</td>\n",
       "      <td>...</td>\n",
       "      <td>...</td>\n",
       "      <td>...</td>\n",
       "      <td>...</td>\n",
       "      <td>...</td>\n",
       "    </tr>\n",
       "    <tr>\n",
       "      <th>2370691</th>\n",
       "      <td>2370691.0</td>\n",
       "      <td>9.54</td>\n",
       "      <td>51.13</td>\n",
       "      <td>1255.0</td>\n",
       "      <td>1885.0</td>\n",
       "      <td>125.0</td>\n",
       "      <td>188.0</td>\n",
       "      <td>23814.0</td>\n",
       "      <td>0.0</td>\n",
       "      <td>1.0</td>\n",
       "      <td>...</td>\n",
       "      <td>0.0</td>\n",
       "      <td>0.0</td>\n",
       "      <td>0.0</td>\n",
       "      <td>0.0</td>\n",
       "      <td>0.0</td>\n",
       "      <td>0.0</td>\n",
       "      <td>0.0</td>\n",
       "      <td>0.0</td>\n",
       "      <td>0.0</td>\n",
       "      <td>0.0</td>\n",
       "    </tr>\n",
       "    <tr>\n",
       "      <th>2370692</th>\n",
       "      <td>2370692.0</td>\n",
       "      <td>9.55</td>\n",
       "      <td>51.13</td>\n",
       "      <td>1255.0</td>\n",
       "      <td>1886.0</td>\n",
       "      <td>125.0</td>\n",
       "      <td>188.0</td>\n",
       "      <td>23814.0</td>\n",
       "      <td>0.0</td>\n",
       "      <td>1.0</td>\n",
       "      <td>...</td>\n",
       "      <td>0.0</td>\n",
       "      <td>0.0</td>\n",
       "      <td>0.0</td>\n",
       "      <td>0.0</td>\n",
       "      <td>0.0</td>\n",
       "      <td>0.0</td>\n",
       "      <td>0.0</td>\n",
       "      <td>0.0</td>\n",
       "      <td>0.0</td>\n",
       "      <td>0.0</td>\n",
       "    </tr>\n",
       "    <tr>\n",
       "      <th>2370693</th>\n",
       "      <td>2370693.0</td>\n",
       "      <td>9.56</td>\n",
       "      <td>51.13</td>\n",
       "      <td>1255.0</td>\n",
       "      <td>1887.0</td>\n",
       "      <td>125.0</td>\n",
       "      <td>188.0</td>\n",
       "      <td>23814.0</td>\n",
       "      <td>0.0</td>\n",
       "      <td>1.0</td>\n",
       "      <td>...</td>\n",
       "      <td>0.0</td>\n",
       "      <td>0.0</td>\n",
       "      <td>0.0</td>\n",
       "      <td>0.0</td>\n",
       "      <td>0.0</td>\n",
       "      <td>0.0</td>\n",
       "      <td>0.0</td>\n",
       "      <td>0.0</td>\n",
       "      <td>0.0</td>\n",
       "      <td>0.0</td>\n",
       "    </tr>\n",
       "    <tr>\n",
       "      <th>2370694</th>\n",
       "      <td>2370694.0</td>\n",
       "      <td>9.57</td>\n",
       "      <td>51.13</td>\n",
       "      <td>1255.0</td>\n",
       "      <td>1888.0</td>\n",
       "      <td>125.0</td>\n",
       "      <td>188.0</td>\n",
       "      <td>23814.0</td>\n",
       "      <td>0.0</td>\n",
       "      <td>1.0</td>\n",
       "      <td>...</td>\n",
       "      <td>0.0</td>\n",
       "      <td>0.0</td>\n",
       "      <td>0.0</td>\n",
       "      <td>0.0</td>\n",
       "      <td>0.0</td>\n",
       "      <td>0.0</td>\n",
       "      <td>0.0</td>\n",
       "      <td>0.0</td>\n",
       "      <td>0.0</td>\n",
       "      <td>0.0</td>\n",
       "    </tr>\n",
       "    <tr>\n",
       "      <th>2370695</th>\n",
       "      <td>2370695.0</td>\n",
       "      <td>9.57</td>\n",
       "      <td>51.13</td>\n",
       "      <td>1255.0</td>\n",
       "      <td>1889.0</td>\n",
       "      <td>125.0</td>\n",
       "      <td>188.0</td>\n",
       "      <td>23814.0</td>\n",
       "      <td>0.0</td>\n",
       "      <td>1.0</td>\n",
       "      <td>...</td>\n",
       "      <td>0.0</td>\n",
       "      <td>0.0</td>\n",
       "      <td>0.0</td>\n",
       "      <td>0.0</td>\n",
       "      <td>0.0</td>\n",
       "      <td>0.0</td>\n",
       "      <td>0.0</td>\n",
       "      <td>0.0</td>\n",
       "      <td>0.0</td>\n",
       "      <td>0.0</td>\n",
       "    </tr>\n",
       "  </tbody>\n",
       "</table>\n",
       "<p>2370695 rows × 23 columns</p>\n",
       "</div>"
      ],
      "text/plain": [
       "                Id   lon    lat  Id_Lin  Id_Col  Id_Lin_G  Id_Col_G     Id_G  \\\n",
       "Id                                                                             \n",
       "1              1.0 -5.17  41.33     1.0     1.0       0.0       0.0      1.0   \n",
       "2              2.0 -5.16  41.33     1.0     2.0       0.0       0.0      1.0   \n",
       "3              3.0 -5.15  41.33     1.0     3.0       0.0       0.0      1.0   \n",
       "4              4.0 -5.14  41.33     1.0     4.0       0.0       0.0      1.0   \n",
       "5              5.0 -5.14  41.33     1.0     5.0       0.0       0.0      1.0   \n",
       "...            ...   ...    ...     ...     ...       ...       ...      ...   \n",
       "2370691  2370691.0  9.54  51.13  1255.0  1885.0     125.0     188.0  23814.0   \n",
       "2370692  2370692.0  9.55  51.13  1255.0  1886.0     125.0     188.0  23814.0   \n",
       "2370693  2370693.0  9.56  51.13  1255.0  1887.0     125.0     188.0  23814.0   \n",
       "2370694  2370694.0  9.57  51.13  1255.0  1888.0     125.0     188.0  23814.0   \n",
       "2370695  2370695.0  9.57  51.13  1255.0  1889.0     125.0     188.0  23814.0   \n",
       "\n",
       "         sum_pop  Class_0  ...  trafficvol_sum_MR  trafficvol_sum_FC  \\\n",
       "Id                         ...                                         \n",
       "1            0.0      1.0  ...                0.0                0.0   \n",
       "2            0.0      1.0  ...                0.0                0.0   \n",
       "3            0.0      1.0  ...                0.0                0.0   \n",
       "4            0.0      1.0  ...                0.0                0.0   \n",
       "5            0.0      1.0  ...                0.0                0.0   \n",
       "...          ...      ...  ...                ...                ...   \n",
       "2370691      0.0      1.0  ...                0.0                0.0   \n",
       "2370692      0.0      1.0  ...                0.0                0.0   \n",
       "2370693      0.0      1.0  ...                0.0                0.0   \n",
       "2370694      0.0      1.0  ...                0.0                0.0   \n",
       "2370695      0.0      1.0  ...                0.0                0.0   \n",
       "\n",
       "         trafficvol_sum_SC  proportion  EmisAnneeKgSum  trafficvol_sum_total  \\\n",
       "Id                                                                             \n",
       "1                      0.0         0.0             0.0                   0.0   \n",
       "2                      0.0         0.0             0.0                   0.0   \n",
       "3                      0.0         0.0             0.0                   0.0   \n",
       "4                      0.0         0.0             0.0                   0.0   \n",
       "5                      0.0         0.0             0.0                   0.0   \n",
       "...                    ...         ...             ...                   ...   \n",
       "2370691                0.0         0.0             0.0                   0.0   \n",
       "2370692                0.0         0.0             0.0                   0.0   \n",
       "2370693                0.0         0.0             0.0                   0.0   \n",
       "2370694                0.0         0.0             0.0                   0.0   \n",
       "2370695                0.0         0.0             0.0                   0.0   \n",
       "\n",
       "         Log_proportion  Log_sum_pop  Log_trafficvol_sum_SC  \\\n",
       "Id                                                            \n",
       "1                   0.0          0.0                    0.0   \n",
       "2                   0.0          0.0                    0.0   \n",
       "3                   0.0          0.0                    0.0   \n",
       "4                   0.0          0.0                    0.0   \n",
       "5                   0.0          0.0                    0.0   \n",
       "...                 ...          ...                    ...   \n",
       "2370691             0.0          0.0                    0.0   \n",
       "2370692             0.0          0.0                    0.0   \n",
       "2370693             0.0          0.0                    0.0   \n",
       "2370694             0.0          0.0                    0.0   \n",
       "2370695             0.0          0.0                    0.0   \n",
       "\n",
       "         Log_trafficvol_sum_total  \n",
       "Id                                 \n",
       "1                             0.0  \n",
       "2                             0.0  \n",
       "3                             0.0  \n",
       "4                             0.0  \n",
       "5                             0.0  \n",
       "...                           ...  \n",
       "2370691                       0.0  \n",
       "2370692                       0.0  \n",
       "2370693                       0.0  \n",
       "2370694                       0.0  \n",
       "2370695                       0.0  \n",
       "\n",
       "[2370695 rows x 23 columns]"
      ]
     },
     "execution_count": 5,
     "metadata": {},
     "output_type": "execute_result"
    }
   ],
   "source": [
    "df"
   ]
  },
  {
   "attachments": {},
   "cell_type": "markdown",
   "metadata": {},
   "source": [
    "## Choose Roads according to vehicle type"
   ]
  },
  {
   "cell_type": "code",
   "execution_count": 6,
   "metadata": {},
   "outputs": [],
   "source": [
    "# Roads choice: if all vehicles ('trafficvol_sum_total'), if 70302 ('trafficvol_sum_SC') ...\n",
    "trafficvol_choice = 'Log_trafficvol_sum_total'\n",
    "# can be logarithmic or not"
   ]
  },
  {
   "cell_type": "markdown",
   "metadata": {},
   "source": [
    "Normalize data"
   ]
  },
  {
   "cell_type": "code",
   "execution_count": 7,
   "metadata": {},
   "outputs": [],
   "source": [
    "# Data normalization:\n",
    "for name in ['sum_pop', 'trafficvol_sum_SC', 'trafficvol_sum_total', 'Log_sum_pop', 'Log_trafficvol_sum_SC', 'Log_trafficvol_sum_total']:\n",
    "    df[name] = (df[name] - np.mean(df[name])) / np.std(df[name])"
   ]
  },
  {
   "cell_type": "code",
   "execution_count": 8,
   "metadata": {},
   "outputs": [
    {
     "name": "stdout",
     "output_type": "stream",
     "text": [
      "Index(['Id', 'lon', 'lat', 'Id_Lin', 'Id_Col', 'Id_Lin_G', 'Id_Col_G', 'Id_G',\n",
      "       'sum_pop', 'Class_0', 'Class_1', 'Class_2', 'Class_3',\n",
      "       'trafficvol_sum_MR', 'trafficvol_sum_FC', 'trafficvol_sum_SC',\n",
      "       'proportion', 'EmisAnneeKgSum', 'trafficvol_sum_total',\n",
      "       'Log_proportion', 'Log_sum_pop', 'Log_trafficvol_sum_SC',\n",
      "       'Log_trafficvol_sum_total'],\n",
      "      dtype='object')\n"
     ]
    }
   ],
   "source": [
    "print(df.columns)"
   ]
  },
  {
   "cell_type": "markdown",
   "metadata": {},
   "source": [
    "## Train, Test Split"
   ]
  },
  {
   "cell_type": "code",
   "execution_count": 9,
   "metadata": {},
   "outputs": [
    {
     "name": "stdout",
     "output_type": "stream",
     "text": [
      "A total of 1280025 rows were removed from 2370695 \n",
      "This corresponds to: 54.0 % of the total\n"
     ]
    }
   ],
   "source": [
    "df_nozeros = df[df[\"EmisAnneeKgSum\"]!=0]\n",
    "print(\"A total of\",  df.shape[0] - df_nozeros.shape[0], \"rows were removed from\", df.shape[0],\"\\nThis corresponds to: {:.1f} % of the total\".format( (df.shape[0]-df_nozeros.shape[0])/df.shape[0]*100) )"
   ]
  },
  {
   "cell_type": "code",
   "execution_count": 10,
   "metadata": {},
   "outputs": [],
   "source": [
    "X =  df[[\"Class_0\",\"Class_1\",\"Class_2\", \"Log_sum_pop\", trafficvol_choice]]\n",
    "y =  df[[\"Log_proportion\"]]\n",
    "\n",
    "# We train and test WITHOUT ZERO VALUES\n",
    "X_nz = df_nozeros[[\"Class_0\",\"Class_1\",\"Class_2\", \"Log_sum_pop\", trafficvol_choice]]\n",
    "y_nz = df_nozeros[[\"Log_proportion\"]]\n",
    "X0 = df_nozeros[[\"Log_sum_pop\", trafficvol_choice]][df_nozeros[\"Class_0\"]==1]\n",
    "X1 = df_nozeros[[\"Log_sum_pop\", trafficvol_choice]][df_nozeros[\"Class_1\"]==1]\n",
    "X2 = df_nozeros[[\"Log_sum_pop\", trafficvol_choice]][df_nozeros[\"Class_2\"]==1]\n",
    "y0 = df_nozeros[df_nozeros[\"Class_0\"]==1.0][[\"Log_proportion\"]]\n",
    "y1 = df_nozeros[df_nozeros[\"Class_1\"]==1.0][[\"Log_proportion\"]]\n",
    "y2 = df_nozeros[df_nozeros[\"Class_2\"]==1.0][[\"Log_proportion\"]]\n"
   ]
  },
  {
   "cell_type": "code",
   "execution_count": 11,
   "metadata": {},
   "outputs": [],
   "source": [
    "# Import train_test_split function\n",
    "from sklearn.model_selection import train_test_split\n",
    "\n",
    "# Split dataset into training set and test set 70% training and 30% test\n",
    "X_all, y_all = np.array(X), np.array(y).reshape(-1, 1)\n",
    "X_nz, y_nz = np.array(X_nz), np.array(y_nz).reshape(-1, 1)\n",
    "X0, y0 = np.array(X0), np.array(y0).reshape(-1, 1)\n",
    "X1, y1 = np.array(X1), np.array(y1).reshape(-1, 1)\n",
    "X2, y2 = np.array(X2), np.array(y2).reshape(-1, 1)\n",
    "\n",
    "X_train, X_test, y_train, y_test = train_test_split(X_nz, y_nz, test_size=0.3, shuffle=True)  \n",
    "X_train0, X_test0, y_train0, y_test0 = train_test_split(X0,y0, test_size=0.3, shuffle=True)  \n",
    "X_train1, X_test1, y_train1, y_test1 = train_test_split(X1,y1, test_size=0.3, shuffle=True)  \n",
    "X_train2, X_test2, y_train2, y_test2 = train_test_split(X2,y2, test_size=0.3, shuffle=True)  "
   ]
  },
  {
   "cell_type": "code",
   "execution_count": 12,
   "metadata": {},
   "outputs": [
    {
     "name": "stdout",
     "output_type": "stream",
     "text": [
      "X_all shape:    (2370695, 5)\n",
      "y_all shape:    (2370695, 1)\n",
      "X_nz shape:     (1090670, 5)\n",
      "y_nz shape:     (1090670, 1)\n",
      "\n",
      "X_train0 shape:  (422, 2)       y_test0 shape:  (181, 1)\n",
      "X_train1 shape:  (64643, 2)     y_test1 shape:  (27705, 1)\n",
      "X_train2 shape:  (459487, 2)    y_test2 shape:  (196923, 1)\n"
     ]
    }
   ],
   "source": [
    "print(\"X_all shape:   \",X_all.shape)\n",
    "print(\"y_all shape:   \",y_all.shape)\n",
    "\n",
    "print(\"X_nz shape:    \",X_nz.shape)\n",
    "print(\"y_nz shape:    \",y_nz.shape)\n",
    "\n",
    "print(\"\\nX_train0 shape: \",X_train0.shape, \"      y_test0 shape: \",y_test0.shape)\n",
    "print(\"X_train1 shape: \",X_train1.shape, \"    y_test1 shape: \",y_test1.shape)\n",
    "print(\"X_train2 shape: \",X_train2.shape, \"   y_test2 shape: \",y_test2.shape)"
   ]
  },
  {
   "attachments": {},
   "cell_type": "markdown",
   "metadata": {},
   "source": [
    "# Import Models"
   ]
  },
  {
   "cell_type": "code",
   "execution_count": 208,
   "metadata": {},
   "outputs": [],
   "source": [
    "from sklearn.pipeline import Pipeline\n",
    "from sklearn.linear_model import LinearRegression, SGDRegressor\n",
    "from sklearn.preprocessing import StandardScaler\n",
    "from sklearn.neural_network import MLPRegressor\n",
    "from sklearn.ensemble import RandomForestRegressor, HistGradientBoostingRegressor, AdaBoostRegressor\n",
    "from sklearn.svm import SVR\n",
    "import statsmodels.api as sm\n",
    "from sklearn.model_selection import cross_val_score\n",
    "from sklearn.metrics import r2_score"
   ]
  },
  {
   "cell_type": "code",
   "execution_count": 209,
   "metadata": {},
   "outputs": [],
   "source": [
    "# # the models to be used in the pipeline\n",
    "# models = [\n",
    "#    LinearRegression()\n",
    "#    MLPRegressor(),\n",
    "#    RandomForestRegressor(),\n",
    "#    SVR(),\n",
    "#    SGDRegressor(),\n",
    "#    LinearRegression(),\n",
    "#    AdaBoostRegressor()\n",
    "# ]\n",
    "\n",
    "# for model in models:\n",
    "#    Reg = model.fit(X_train, y_train)\n",
    "#    # TESTING : Make prediction on test dataset\n",
    "#    score = cross_val_score(Reg, X_test, y_test, cv=3)\n",
    "#    print(f\"{model.__class__.__name__}: %0.2f accuracy with a standard deviation of %0.2f\" % (score.mean(), score.std()))\n"
   ]
  },
  {
   "cell_type": "code",
   "execution_count": 210,
   "metadata": {},
   "outputs": [
    {
     "name": "stdout",
     "output_type": "stream",
     "text": [
      "GB :     0.289 accuracy with a standard deviation of 0.01\n",
      "MLP:     0.20 accuracy with a standard deviation of 0.050\n",
      "RF :     0.289 accuracy with a standard deviation of 0.01\n"
     ]
    }
   ],
   "source": [
    "# Create model objects\n",
    "\n",
    "############ Linear Regressor ##########\n",
    "x_sm = sm.add_constant(X_train) # adding a constant\n",
    "LinRegr = sm.OLS(y_train, x_sm).fit()\n",
    "\n",
    "############ Gradient Boosting Regressor ##########\n",
    "GBreg = HistGradientBoostingRegressor()\n",
    "GBreg.fit(np.array(X_train), np.ravel(y_train))\n",
    "score = cross_val_score(GBreg, X_test, np.ravel(y_test), cv=3)\n",
    "print(f\"GB :     %0.3f accuracy with a standard deviation of %0.2f\" % (score.mean(), score.std()))\n",
    "\n",
    "############ SGDRegressor ##########\n",
    "#     #The model and training\n",
    "# SGDReg = SGDRegressor(max_iter=1000, tol=1e-3, alpha=0.01, random_state=42)\n",
    "# SGDReg.fit(X_train, np.ravel(y_train))\n",
    "# # TESTING : Make prediction on test dataset\n",
    "# score = cross_val_score(SGDReg, X_test, y_test, cv=3)\n",
    "# print(f\"SGD: %0.2f accuracy with a standard deviation of %0.2f\" % (score.mean(), score.std()))\n",
    "\n",
    "# ############ MLPerceptron ############\n",
    "MLPreg = MLPRegressor()\n",
    "MLPreg.fit(np.array(X_train),np.ravel(y_train))\n",
    "score = cross_val_score(MLPreg, X_test, np.ravel(y_test), cv=3)\n",
    "print(f\"MLP:     %0.2f accuracy with a standard deviation of %0.3f\" % (score.mean(), score.std()))\n",
    "\n",
    "############ RandomForestRegressor ############\n",
    "RFreg = RandomForestRegressor(n_estimators = 300, max_features = 'sqrt', max_depth = 7, random_state = 18)\n",
    "RFreg.fit(np.array(X_train), np.ravel(y_train))\n",
    "score = cross_val_score(RFreg, X_test, np.ravel(y_test), cv=3)\n",
    "print(f\"RF :     %0.3f accuracy with a standard deviation of %0.2f\" % (score.mean(), score.std()))\n",
    "\n",
    "############ SVMRegressor ############\n",
    "# TAKES TOO LONG\n",
    "# SVReg = SVR(kernel='poly', C=1.0, epsilon=0.1)\n",
    "# SVReg.fit(X_train, np.ravel(y_train))\n",
    "# score = cross_val_score(SVReg, X_test, y_test, cv=3)\n",
    "# print(f\"SVM: %0.2f accuracy with a standard deviation of %0.2f\" % (score.mean(), score.std()))\n",
    "\n",
    "# ############ AdaBoostRegressor ############\n",
    "# AdaReg = AdaBoostRegressor(n_estimators=50, random_state=42)\n",
    "# AdaReg.fit(X_train, np.ravel(y_train))\n",
    "# score = cross_val_score(AdaReg, X_test, y_test, cv=3)\n",
    "# print(f\"Ada: %0.2f accuracy with a standard deviation of %0.2f\" % (score.mean(), score.std()))\n"
   ]
  },
  {
   "cell_type": "code",
   "execution_count": 211,
   "metadata": {},
   "outputs": [
    {
     "name": "stdout",
     "output_type": "stream",
     "text": [
      "                            OLS Regression Results                            \n",
      "==============================================================================\n",
      "Dep. Variable:                      y   R-squared:                       0.248\n",
      "Model:                            OLS   Adj. R-squared:                  0.248\n",
      "Method:                 Least Squares   F-statistic:                 5.038e+04\n",
      "Date:                Wed, 22 Mar 2023   Prob (F-statistic):               0.00\n",
      "Time:                        23:42:15   Log-Likelihood:             1.9567e+06\n",
      "No. Observations:              763469   AIC:                        -3.913e+06\n",
      "Df Residuals:                  763463   BIC:                        -3.913e+06\n",
      "Df Model:                           5                                         \n",
      "Covariance Type:            nonrobust                                         \n",
      "==============================================================================\n",
      "                 coef    std err          t      P>|t|      [0.025      0.975]\n",
      "------------------------------------------------------------------------------\n",
      "const          0.0064   3.82e-05    167.817      0.000       0.006       0.006\n",
      "x1             0.0015      0.001      1.577      0.115      -0.000       0.003\n",
      "x2             0.0008   8.73e-05      8.605      0.000       0.001       0.001\n",
      "x3            -0.0004   4.96e-05     -7.734      0.000      -0.000      -0.000\n",
      "x4             0.0014   2.14e-05     63.687      0.000       0.001       0.001\n",
      "x5             0.0072   1.65e-05    436.702      0.000       0.007       0.007\n",
      "==============================================================================\n",
      "Omnibus:                  1118877.565   Durbin-Watson:                   2.000\n",
      "Prob(Omnibus):                  0.000   Jarque-Bera (JB):       1176629496.162\n",
      "Skew:                           8.537   Prob(JB):                         0.00\n",
      "Kurtosis:                     194.563   Cond. No.                         77.4\n",
      "==============================================================================\n",
      "\n",
      "Notes:\n",
      "[1] Standard Errors assume that the covariance matrix of the errors is correctly specified.\n"
     ]
    }
   ],
   "source": [
    "############ Linear Regressor ##########\n",
    "LinRegrSummary = LinRegr.summary()\n",
    "print(LinRegrSummary)"
   ]
  },
  {
   "cell_type": "markdown",
   "metadata": {},
   "source": [
    "## Prediction"
   ]
  },
  {
   "cell_type": "code",
   "execution_count": 212,
   "metadata": {},
   "outputs": [],
   "source": [
    "# PREDICTION\n",
    "\n",
    "############ Original values ##########\n",
    "y_target = np.exp(y)-1\n",
    "\n",
    "############ Linear Regressor ##########\n",
    "y_pred_Linear  = LinRegr.predict(sm.add_constant(np.array(X)))\n",
    "proportion_pred_Linear  = np.exp(y_pred_Linear)-1\n",
    "proportion_pred_Linear = np.clip(proportion_pred_Linear,0,1)\n",
    "\n",
    "############ Gradient Boosting Regressor ##########\n",
    "y_pred_GB  = GBreg.predict(np.array(X))\n",
    "proportion_pred_GB  = np.exp(y_pred_GB)-1\n",
    "proportion_pred_GB = np.clip(proportion_pred_GB,0,1)\n",
    "\n",
    "# ############SGDRegressor ##########\n",
    "# y_pred_SGD = SGDReg.predict(X)\n",
    "# proportion_pred_SGD = np.exp(y_pred_SGD)-1\n",
    "# proportion_pred_SGD = np.clip(proportion_pred_SGD,0,1)\n",
    "\n",
    "# ############ MLPerceptron ##########\n",
    "y_pred_MLP = MLPreg.predict(np.array(X))\n",
    "proportion_pred_MLP = np.exp(y_pred_MLP)-1\n",
    "proportion_pred_MLP = np.clip(proportion_pred_MLP,0,1)\n",
    "\n",
    "############ RandomForestRegressor ##########\n",
    "y_pred_RF  = RFreg.predict(np.array(X))\n",
    "proportion_pred_RF  = np.exp(y_pred_RF)-1\n",
    "proportion_pred_RF = np.clip(proportion_pred_RF,0,1)\n",
    "\n",
    "############ SVMRegressor ##########\n",
    "# y_pred_SV  = SVReg.predict(np.array(X))\n",
    "# proportion_pred_SV  = np.exp(y_pred_SV)-1\n",
    "# proportion_pred_SV = np.clip(proportion_pred_SV,0,1)\n",
    "\n",
    "# ############ AdaBoostRegressor ##########\n",
    "# y_pred_Ada = AdaReg.predict(X)\n",
    "# proportion_pred_Ada = np.exp(y_pred_Ada)-1\n",
    "# proportion_pred_Ada = np.clip(proportion_pred_Ada,0,1)\n",
    "\n",
    "# ############ Neural Network ##########\n",
    "# proportion_pred_NN = np.exp(y_pred_NN)-1\n",
    "# proportion_pred_NN = np.clip(proportion_pred_NN,0,1)"
   ]
  },
  {
   "cell_type": "markdown",
   "metadata": {},
   "source": [
    "## Metrics"
   ]
  },
  {
   "cell_type": "code",
   "execution_count": 213,
   "metadata": {},
   "outputs": [
    {
     "name": "stdout",
     "output_type": "stream",
     "text": [
      "Linear R2 Coefficient : 0.282\n",
      "Linear Explained Variance : 0.305\n",
      "\n",
      "GB R2 Coefficient : 0.352\n",
      "GB Explained Variance : 0.354\n",
      "\n",
      "RF  R2 Coefficient : 0.349\n",
      "RF  Explained Variance : 0.352\n",
      "\n",
      "MLP  R2 Coefficient : 0.340\n",
      "MLP  Explained Variance : 0.349\n"
     ]
    }
   ],
   "source": [
    "# Import metrics\n",
    "from sklearn import metrics\n",
    "\n",
    "# Calcuate accuracy\n",
    "print('Linear R2 Coefficient : {0:.3f}'.format(metrics.r2_score(y, y_pred_Linear)))\n",
    "print('Linear Explained Variance : {0:.3f}'.format(metrics.explained_variance_score(y, y_pred_Linear)))\n",
    "print('\\nGB R2 Coefficient : {0:.3f}'.format(metrics.r2_score(y, y_pred_GB)))\n",
    "print('GB Explained Variance : {0:.3f}'.format(metrics.explained_variance_score(y, y_pred_GB)))\n",
    "print('\\nRF  R2 Coefficient : {0:.3f}'.format(metrics.r2_score(y, y_pred_RF)))\n",
    "print('RF  Explained Variance : {0:.3f}'.format(metrics.explained_variance_score(y, y_pred_RF)))\n",
    "print('\\nMLP  R2 Coefficient : {0:.3f}'.format(metrics.r2_score(y, y_pred_MLP)))\n",
    "print('MLP  Explained Variance : {0:.3f}'.format(metrics.explained_variance_score(y, y_pred_MLP)))\n",
    "\n",
    "# mse = metrics.mean_squared_error(y_test, y_pred_RF) \n",
    "# print('Random Forest MSE : {0:.2f}'.format(mse))\n",
    "# print('Random Forest RMSE : {0:.2f}'.format(np.sqrt(mse)))"
   ]
  },
  {
   "cell_type": "code",
   "execution_count": 214,
   "metadata": {},
   "outputs": [
    {
     "name": "stdout",
     "output_type": "stream",
     "text": [
      "Feature Importance: \n",
      "Class_0  =  2.8789099588995143e-05\n",
      "Class_1  =  0.022707471156070157\n",
      "Class_2  =  0.008803447147240935\n",
      "Log_sum_pop  =  0.1458405782705547\n",
      "Log_trafficvol_sum_total  =  0.8226197143265452\n"
     ]
    }
   ],
   "source": [
    "from sklearn.tree import export_graphviz\n",
    "from graphviz import Source\n",
    "\n",
    "# Export one tree from forest to visualize\n",
    "feature_importances = RFreg.feature_importances_\n",
    "reg_tree = RFreg.estimators_[1]\n",
    "\n",
    "# # Export one tree to \"plot_tree.pdf\"\n",
    "# plot_tree = export_graphviz(reg_tree, out_file=None, feature_names=[\"Class_0\",\"Class_1\",\"Class_2\", \"Log_sum_pop\", \"Log_trafficvol_sum_SC\"], filled=True) \n",
    "# graph = Source(plot_tree) \n",
    "# graph.render(\"reg_tree\")\n",
    "\n",
    "# # Plot the tree\n",
    "# graph\n",
    "\n",
    "# Most important features and its weights\n",
    "print(\"Feature Importance: \")\n",
    "for i,feature_value in enumerate(feature_importances):\n",
    "    print(X.columns[i], \" = \", feature_value)\n"
   ]
  },
  {
   "attachments": {},
   "cell_type": "markdown",
   "metadata": {},
   "source": [
    "We can observe that the most importat feature is the Traffic Volume, followed by the Population.\n",
    "The least important feature is the Class 0."
   ]
  },
  {
   "cell_type": "markdown",
   "metadata": {},
   "source": [
    "## Histograms"
   ]
  },
  {
   "cell_type": "code",
   "execution_count": 217,
   "metadata": {},
   "outputs": [
    {
     "data": {
      "text/plain": [
       "<matplotlib.legend.Legend at 0x29aa34c70>"
      ]
     },
     "execution_count": 217,
     "metadata": {},
     "output_type": "execute_result"
    },
    {
     "data": {
      "image/png": "[encoded data removed]",
      "text/plain": [
       "<Figure size 1500x1000 with 4 Axes>"
      ]
     },
     "metadata": {},
     "output_type": "display_data"
    }
   ],
   "source": [
    "fig = plt.figure(figsize=(15,10))\n",
    "fig.suptitle('Histograms in logarithmic scale for the all vehicles')\n",
    "\n",
    "plt.subplot(2,2,1)\n",
    "plt.hist(x=y_target, bins=40, alpha=0.25, rwidth=0.85, histtype='stepfilled', label='Original proportion')\n",
    "plt.hist(x=proportion_pred_Linear, bins=5,alpha=0.5, rwidth=0.85, histtype='stepfilled', label= 'Linear Regression Estimation',log=True)\n",
    "plt.title('Histogram Linear')\n",
    "plt.ylabel('Frequency')\n",
    "plt.legend()\n",
    "\n",
    "plt.subplot(2,2,3)\n",
    "plt.hist(x=np.ravel(y_target), bins=20, alpha=0.25, rwidth=0.85, histtype='stepfilled', label='Original proportion')\n",
    "plt.hist(x=proportion_pred_GB, bins=7, alpha=0.5, rwidth=0.85, histtype='stepfilled', label= 'Gradient Boosting Estimation',log=True)\n",
    "plt.title('Histogram Gradient Boosting')\n",
    "plt.ylabel('Frequency')\n",
    "plt.legend()\n",
    "\n",
    "plt.subplot(2,2,4)\n",
    "plt.hist(x=y_target, bins=20, alpha=0.25, rwidth=0.85, histtype='stepfilled', label='Original proportion', log=False)\n",
    "plt.hist(x=np.clip(proportion_pred_MLP,0,1), bins=7,alpha=0.5, rwidth=0.85, histtype='stepfilled', label= 'Neural Network Estimation',log=True)\n",
    "plt.title('Histogram MLP')\n",
    "# plt.xlabel('Value')\n",
    "plt.ylabel('Frequency')\n",
    "plt.legend()\n",
    "\n",
    "plt.subplot(2,2,2)\n",
    "plt.hist(x=y_target, bins=40, alpha=0.25, rwidth=0.85, histtype='stepfilled', label='Original proportion')\n",
    "plt.hist(x=proportion_pred_RF, bins=7,alpha=0.5, rwidth=0.85, histtype='stepfilled', label= 'Random Forest Estimation',log=True)\n",
    "plt.title('Histogram Random Forest')\n",
    "# plt.xlabel('Value')\n",
    "plt.ylabel('Frequency')\n",
    "plt.legend()\n",
    "\n",
    "# # plt.subplot(5,1,4)\n",
    "# # plt.hist(x=y_target, bins='auto',alpha=0.5, rwidth=0.85, histtype='stepfilled', label='Original proportion')\n",
    "# # plt.hist(x=proportion_pred_SV, bins='auto', color='#0504aa',alpha=0.25, rwidth=0.85, histtype='stepfilled', label= 'Neural Network Estimation',log=True)\n",
    "# # plt.title('Histogram RF')\n",
    "# # plt.xlabel('Value')\n",
    "# # plt.ylabel('Frequency')\n",
    "# # plt.legend()\n",
    "\n",
    "# plt.subplot(3,1,3)\n",
    "# plt.hist(x=y_target, bins=20,alpha=0.25, rwidth=0.85, histtype='stepfilled', label='Original proportion')\n",
    "# plt.hist(x=proportion_pred_Ada, bins=20, alpha=0.5, rwidth=0.85, histtype='stepfilled', label= 'Ada Estimation',log=True)\n",
    "# plt.title('Histogram Ada')\n",
    "# plt.xlabel('Value')\n",
    "# plt.ylabel('Frequency')\n",
    "# plt.legend()"
   ]
  },
  {
   "attachments": {},
   "cell_type": "markdown",
   "metadata": {},
   "source": [
    "## Deep Learning (Neural Networks)"
   ]
  },
  {
   "cell_type": "markdown",
   "metadata": {},
   "source": [
    "### Pytorch:"
   ]
  },
  {
   "cell_type": "code",
   "execution_count": 144,
   "metadata": {},
   "outputs": [],
   "source": [
    "from torch.utils.data import Dataset\n",
    "\n",
    "# Define Custom Dataset\n",
    "class DatasetCustom(Dataset):\n",
    "    def __init__(self, data, label):\n",
    "        # Data is an array of N x 5\n",
    "        self.data = data\n",
    "        # Label is an array of N x 1\n",
    "        self.label = label\n",
    "        # Id G to compute loss constraint\n",
    "        # self.Id_G = Id_G\n",
    "        \n",
    "    def __len__(self):\n",
    "        return self.data.shape[0]\n",
    "    \n",
    "    def __getitem__(self, index):\n",
    "        return self.data[index,:], self.label[index]"
   ]
  },
  {
   "cell_type": "code",
   "execution_count": 145,
   "metadata": {},
   "outputs": [],
   "source": [
    "# Define train and test data:\n",
    "all_data   = DatasetCustom(X_all,  y_all)\n",
    "train_data = DatasetCustom(X_train,y_train)\n",
    "test_data  = DatasetCustom(X_test, y_test)\n",
    "\n",
    "train_data0 = DatasetCustom(X_train0,y_train0)\n",
    "train_data1 = DatasetCustom(X_train1,y_train1)\n",
    "train_data2 = DatasetCustom(X_train2,y_train2)\n",
    "\n",
    "test_data0  = DatasetCustom(X_test0, y_test0)\n",
    "test_data1  = DatasetCustom(X_test1, y_test1)\n",
    "test_data2  = DatasetCustom(X_test2, y_test2)\n",
    "\n",
    "all_data0   = DatasetCustom(X0,y0)\n",
    "all_data1   = DatasetCustom(X1,y1)\n",
    "all_data2   = DatasetCustom(X2,y2)"
   ]
  },
  {
   "cell_type": "markdown",
   "metadata": {},
   "source": [
    "### Dataset Loader"
   ]
  },
  {
   "cell_type": "code",
   "execution_count": 146,
   "metadata": {},
   "outputs": [],
   "source": [
    "import torch\n",
    "from torch.utils.data.sampler import SubsetRandomSampler\n",
    "\n",
    "batch_size = 32\n",
    "valid_size = 0.2\n",
    "\n",
    "def create_data_loaders(batch_size, valid_size, train_data, test_data):\n",
    "    # define sizes\n",
    "    num_train, num_test = len(train_data), len(test_data)\n",
    "\n",
    "    # obtain training indices that will be used for validation\n",
    "    indices = list(range(num_train))\n",
    "    np.random.shuffle(indices)\n",
    "    split = int(np.floor(valid_size * num_train))\n",
    "    train_index, valid_index = indices[split:], indices[:split]\n",
    "\n",
    "    # define samplers for obtaining training and validation batches\n",
    "    train_sampler = SubsetRandomSampler(train_index)\n",
    "    valid_sampler = SubsetRandomSampler(valid_index)\n",
    "\n",
    "    # prepare data loaders\n",
    "    train_loader = torch.utils.data.DataLoader(train_data, batch_size = batch_size, sampler = train_sampler)\n",
    "    valid_loader = torch.utils.data.DataLoader(train_data, batch_size = batch_size, sampler = valid_sampler)\n",
    "    \n",
    "    # test data loader\n",
    "    test_loader = torch.utils.data.DataLoader(test_data, batch_size = batch_size)\n",
    "    \n",
    "    return train_loader, valid_loader, test_loader"
   ]
  },
  {
   "cell_type": "code",
   "execution_count": 147,
   "metadata": {},
   "outputs": [],
   "source": [
    "train_loader, valid_loader, test_loader = create_data_loaders(batch_size, valid_size, train_data, test_data)\n",
    "\n",
    "train_loader0, valid_loader0, test_loader0 = create_data_loaders(batch_size, valid_size, train_data0, test_data0)\n",
    "train_loader1, valid_loader1, test_loader1 = create_data_loaders(batch_size, valid_size, train_data1, test_data1)\n",
    "train_loader2, valid_loader2, test_loader2 = create_data_loaders(batch_size, valid_size, train_data2, test_data2)"
   ]
  },
  {
   "cell_type": "code",
   "execution_count": 148,
   "metadata": {},
   "outputs": [],
   "source": [
    "data_loader0 = torch.utils.data.DataLoader(all_data0, batch_size = batch_size, shuffle=True)\n",
    "data_loader1 = torch.utils.data.DataLoader(all_data1, batch_size = batch_size, shuffle=True)\n",
    "data_loader2 = torch.utils.data.DataLoader(all_data2, batch_size = batch_size, shuffle=True)\n",
    "\n",
    "# loader_with_class = torch.utils.data.DataLoader(, batch_size = batch_size, shuffle=True)"
   ]
  },
  {
   "cell_type": "markdown",
   "metadata": {},
   "source": [
    "#### Neural Network architecture definition:\n"
   ]
  },
  {
   "cell_type": "code",
   "execution_count": 149,
   "metadata": {},
   "outputs": [],
   "source": [
    "import torch.nn as nn\n",
    "import torch.optim as optim\n",
    "\n",
    "# Declare a class for nonlinear regression\n",
    "class nonlinear_regression_nn(nn.Module):\n",
    "    \n",
    "    # class initialization\n",
    "    def __init__(self, input_size, hidden_size, output_size):\n",
    "        super(nonlinear_regression_nn, self).__init__()\n",
    "        self.fc0 = nn.Linear(input_size, hidden_size)\n",
    "        self.fc1 = nn.Linear(hidden_size, hidden_size)\n",
    "        self.fc2 = nn.Linear(hidden_size, hidden_size)\n",
    "        self.fc3 = nn.Linear(hidden_size, hidden_size)\n",
    "        self.fc4 = nn.Linear(hidden_size, hidden_size)\n",
    "        self.fc5 = nn.Linear(hidden_size, output_size)\n",
    "        self.relu= nn.ReLU()\n",
    "        #self.softmax = nn.Softmax(output_size)\n",
    "\n",
    "    # function to apply the neural network\n",
    "    def forward(self, x):\n",
    "        out = self.fc0(x)\n",
    "        out = self.relu(out)\n",
    "        out = self.fc1(out)\n",
    "        out = self.relu(out)\n",
    "        out = self.fc2(out)\n",
    "        out = self.relu(out)\n",
    "        out = self.fc3(out)\n",
    "        out = self.relu(out)\n",
    "        out = self.fc4(out)\n",
    "        out = self.relu(out)\n",
    "        y_pred = self.fc5(out)\n",
    "        #y_pred = self.softmax(out)\n",
    "        return y_pred\n"
   ]
  },
  {
   "cell_type": "markdown",
   "metadata": {},
   "source": [
    "Select device:"
   ]
  },
  {
   "cell_type": "code",
   "execution_count": 150,
   "metadata": {},
   "outputs": [
    {
     "name": "stdout",
     "output_type": "stream",
     "text": [
      "Using device cpu\n"
     ]
    }
   ],
   "source": [
    "device = torch.device('cuda' if torch.cuda.is_available() else 'cpu')\n",
    "print('Using device '+str(device))"
   ]
  },
  {
   "cell_type": "code",
   "execution_count": 151,
   "metadata": {
    "scrolled": true
   },
   "outputs": [
    {
     "data": {
      "text/plain": [
       "nonlinear_regression_nn(\n",
       "  (fc0): Linear(in_features=2, out_features=64, bias=True)\n",
       "  (fc1): Linear(in_features=64, out_features=64, bias=True)\n",
       "  (fc2): Linear(in_features=64, out_features=64, bias=True)\n",
       "  (fc3): Linear(in_features=64, out_features=64, bias=True)\n",
       "  (fc4): Linear(in_features=64, out_features=64, bias=True)\n",
       "  (fc5): Linear(in_features=64, out_features=1, bias=True)\n",
       "  (relu): ReLU()\n",
       ")"
      ]
     },
     "execution_count": 151,
     "metadata": {},
     "output_type": "execute_result"
    }
   ],
   "source": [
    "# Create the neural network \n",
    "#    input size: amount of input data columns for x\n",
    "#    hidden size: 64 neurons (x3)\n",
    "#    output size: size of y (=1)\n",
    "model0 = nonlinear_regression_nn(input_size=X_train0.shape[1], hidden_size=64, output_size=1)\n",
    "model1 = nonlinear_regression_nn(input_size=X_train1.shape[1], hidden_size=64, output_size=1)\n",
    "model2 = nonlinear_regression_nn(input_size=X_train2.shape[1], hidden_size=64, output_size=1)\n",
    "\n",
    "# Send to device\n",
    "model0.to(device=device)\n",
    "model1.to(device=device)\n",
    "model2.to(device=device)"
   ]
  },
  {
   "cell_type": "code",
   "execution_count": 152,
   "metadata": {},
   "outputs": [
    {
     "name": "stdout",
     "output_type": "stream",
     "text": [
      "==========================================================================================\n",
      "Layer (type:depth-idx)                   Output Shape              Param #\n",
      "==========================================================================================\n",
      "├─Linear: 1-1                            [-1, 13, 64]              192\n",
      "├─ReLU: 1-2                              [-1, 13, 64]              --\n",
      "├─Linear: 1-3                            [-1, 13, 64]              4,160\n",
      "├─ReLU: 1-4                              [-1, 13, 64]              --\n",
      "├─Linear: 1-5                            [-1, 13, 64]              4,160\n",
      "├─ReLU: 1-6                              [-1, 13, 64]              --\n",
      "├─Linear: 1-7                            [-1, 13, 64]              4,160\n",
      "├─ReLU: 1-8                              [-1, 13, 64]              --\n",
      "├─Linear: 1-9                            [-1, 13, 64]              4,160\n",
      "├─ReLU: 1-10                             [-1, 13, 64]              --\n",
      "├─Linear: 1-11                           [-1, 13, 1]               65\n",
      "==========================================================================================\n",
      "Total params: 16,897\n",
      "Trainable params: 16,897\n",
      "Non-trainable params: 0\n",
      "Total mult-adds (M): 0.02\n",
      "==========================================================================================\n",
      "Input size (MB): 0.00\n",
      "Forward/backward pass size (MB): 0.03\n",
      "Params size (MB): 0.06\n",
      "Estimated Total Size (MB): 0.10\n",
      "==========================================================================================\n"
     ]
    }
   ],
   "source": [
    "from torchsummary import summary\n",
    "s=summary(model0, X_train0.shape) "
   ]
  },
  {
   "cell_type": "markdown",
   "metadata": {},
   "source": [
    "### Training:"
   ]
  },
  {
   "cell_type": "code",
   "execution_count": 153,
   "metadata": {},
   "outputs": [],
   "source": [
    "# Define Optimizers\n",
    "optimizer0 = torch.optim.SGD(model0.parameters(),lr = 0.01) \n",
    "optimizer1 = torch.optim.SGD(model1.parameters(),lr = 0.01) \n",
    "optimizer2 = torch.optim.SGD(model2.parameters(),lr = 0.01) "
   ]
  },
  {
   "cell_type": "code",
   "execution_count": 154,
   "metadata": {},
   "outputs": [],
   "source": [
    "# Define Loss Criterion\n",
    "criterion = nn.MSELoss()"
   ]
  },
  {
   "cell_type": "code",
   "execution_count": 155,
   "metadata": {
    "scrolled": true
   },
   "outputs": [],
   "source": [
    "n_epochs = 50 # number of epochs to train the model\n",
    "\n",
    "def training(n_epochs, train_loader, valid_loader, model, criterion, optimizer):\n",
    "\n",
    "    # lambda_ = 0.6\n",
    "    train_losses, valid_losses = [], []\n",
    "    # initialize tracker for minimum validation loss\n",
    "    valid_loss_min = np.Inf  # set initial \"min\" to infinity\n",
    "\n",
    "    # Loop on epochs\n",
    "    for epoch in range(n_epochs):\n",
    "        train_loss, valid_loss = 0, 0\n",
    "        \n",
    "        model.train()\n",
    "        for data,label in train_loader:\n",
    "            data = data.to(device=device, dtype=torch.float32)\n",
    "            label = label.to(device=device, dtype=torch.float32)\n",
    "            optimizer.zero_grad() # clear the gradients of all optimized variables\n",
    "            output = model(data) # compute the prediction using the previous parameters of the neural network\n",
    "            # compute the loss adding the constraint that for each Id_G, the sum has to be equal to 1\n",
    "            #df['y_pred'] = y_pred.detach().numpy()\n",
    "            #contraint = lambda_ * np.sum([(df.loc[df['Id_G'] == i, 'y_pred'].sum() - 1) for i in df['Id_G'].unique()])\n",
    "            #loss = criterion(output, label.type(torch.float32))# + torch.tensor(contraint)\n",
    "            loss = criterion(output, label) # calculate the loss\n",
    "            loss.backward() # backward pass: compute gradient of the loss with respect to model parameters\n",
    "            optimizer.step() # perform a single optimization step (parameter update)\n",
    "            train_loss += loss.item() * data.size(0) # update running training loss\n",
    "        \n",
    "        # validate the model\n",
    "        model.eval()\n",
    "        for data, label in valid_loader:\n",
    "            data = data.to(device=device, dtype=torch.float32)\n",
    "            label = label.to(device=device, dtype=torch.float32)\n",
    "            with torch.no_grad():\n",
    "                output = model(data)\n",
    "            loss = criterion(output,label)\n",
    "            valid_loss += loss.item() * data.size(0)\n",
    "      \n",
    "        # calculate average loss over an epoch\n",
    "        train_loss /= len(train_loader.sampler)\n",
    "        valid_loss /= len(valid_loader.sampler)\n",
    "        train_losses.append(train_loss)\n",
    "        valid_losses.append(valid_loss)\n",
    "      \n",
    "        if epoch/10 % 1 == 0:\n",
    "            print('epoch: {} \\ttraining Loss: {:.6f} \\tvalidation Loss: {:.6f}'.format(epoch+1, train_loss, valid_loss))\n",
    "\n",
    "        # save model if validation loss has decreased\n",
    "        if valid_loss <= valid_loss_min:\n",
    "            # print('validation loss decreased ({:.6f} --> {:.6f}).  Saving model ...'.format(\n",
    "            # valid_loss_min,\n",
    "            # valid_loss))\n",
    "            torch.save(model.state_dict(), 'model.pt')\n",
    "            valid_loss_min = valid_loss\n",
    "    \n",
    "    return train_losses, valid_losses"
   ]
  },
  {
   "cell_type": "code",
   "execution_count": 156,
   "metadata": {
    "scrolled": true
   },
   "outputs": [
    {
     "name": "stdout",
     "output_type": "stream",
     "text": [
      "epoch: 1 \ttraining Loss: 0.058920 \tvalidation Loss: 0.015548\n",
      "epoch: 11 \ttraining Loss: 0.036878 \tvalidation Loss: 0.004949\n",
      "epoch: 21 \ttraining Loss: 0.024526 \tvalidation Loss: 0.000934\n",
      "epoch: 31 \ttraining Loss: 0.017619 \tvalidation Loss: 0.000141\n",
      "epoch: 41 \ttraining Loss: 0.013767 \tvalidation Loss: 0.000786\n",
      "epoch: 1 \ttraining Loss: 0.002159 \tvalidation Loss: 0.002157\n",
      "epoch: 11 \ttraining Loss: 0.002110 \tvalidation Loss: 0.002131\n",
      "epoch: 21 \ttraining Loss: 0.002108 \tvalidation Loss: 0.002130\n",
      "epoch: 31 \ttraining Loss: 0.002107 \tvalidation Loss: 0.002128\n",
      "epoch: 41 \ttraining Loss: 0.002107 \tvalidation Loss: 0.002126\n",
      "epoch: 1 \ttraining Loss: 0.000857 \tvalidation Loss: 0.000884\n",
      "epoch: 11 \ttraining Loss: 0.000839 \tvalidation Loss: 0.000874\n",
      "epoch: 21 \ttraining Loss: 0.000838 \tvalidation Loss: 0.000873\n",
      "epoch: 31 \ttraining Loss: 0.000838 \tvalidation Loss: 0.000873\n",
      "epoch: 41 \ttraining Loss: 0.000838 \tvalidation Loss: 0.000873\n"
     ]
    },
    {
     "data": {
      "text/plain": [
       "<All keys matched successfully>"
      ]
     },
     "execution_count": 156,
     "metadata": {},
     "output_type": "execute_result"
    }
   ],
   "source": [
    "# TRAIN and choose the model with the lowest validation loss:\n",
    "train_losses0, valid_losses0 = training(n_epochs, train_loader0, valid_loader0, model0, criterion, optimizer0)\n",
    "model0.load_state_dict(torch.load('model.pt', map_location=device))\n",
    "train_losses1, valid_losses1 = training(n_epochs, train_loader1, valid_loader1, model1, criterion, optimizer1)\n",
    "model1.load_state_dict(torch.load('model.pt', map_location=device))\n",
    "train_losses2, valid_losses2 = training(n_epochs, train_loader2, valid_loader2, model2, criterion, optimizer2)\n",
    "model2.load_state_dict(torch.load('model.pt', map_location=device))"
   ]
  },
  {
   "cell_type": "code",
   "execution_count": 157,
   "metadata": {},
   "outputs": [
    {
     "data": {
      "image/png": "[encoded data removed]",
      "text/plain": [
       "<Figure size 1000x1500 with 3 Axes>"
      ]
     },
     "metadata": {},
     "output_type": "display_data"
    }
   ],
   "source": [
    "import matplotlib.pyplot as plt\n",
    "train_losses = train_losses0, train_losses1, train_losses2\n",
    "valid_losses = valid_losses0, valid_losses1, valid_losses2\n",
    "title  = ['Class 0', 'Class 1', 'Class 2']\n",
    "# Plot the loss function for each model\n",
    "fig, axs = plt.subplots(3, figsize=(10,15))\n",
    "fig.suptitle('Loss Functions')\n",
    "i = 0\n",
    "for ax in axs:\n",
    "    ax.plot(range(n_epochs), train_losses[i])\n",
    "    ax.plot(range(n_epochs), valid_losses[i])\n",
    "    ax.legend(['train', 'validation'], prop={'size': 10})\n",
    "    ax.set_title(title[i], size=10)\n",
    "    ax.set_xlabel('epoch', size=10)\n",
    "    ax.set_ylabel('loss value', size=10)\n",
    "    i += 1"
   ]
  },
  {
   "cell_type": "markdown",
   "metadata": {},
   "source": [
    "### Evaluation"
   ]
  },
  {
   "cell_type": "code",
   "execution_count": 158,
   "metadata": {},
   "outputs": [],
   "source": [
    "def evaluation(model, test_loader, criterion): \n",
    "\n",
    "    test_loss = 0.0\n",
    "\n",
    "    model.eval()\n",
    "    for data, label in test_loader:\n",
    "        data = data.to(device=device, dtype=torch.float32)\n",
    "        label = label.to(device=device, dtype=torch.long)\n",
    "        with torch.no_grad():\n",
    "            output = model(data)\n",
    "        loss = criterion(output, label)\n",
    "        test_loss += loss.item()*data.size(0)\n",
    "        \n",
    "    test_loss = test_loss/len(test_loader.sampler)\n",
    "    print('test Loss: {:.6f}\\n'.format(test_loss))"
   ]
  },
  {
   "cell_type": "code",
   "execution_count": 159,
   "metadata": {},
   "outputs": [
    {
     "name": "stdout",
     "output_type": "stream",
     "text": [
      "test Loss: 0.000648\n",
      "\n",
      "test Loss: 0.000750\n",
      "\n",
      "test Loss: 0.000422\n",
      "\n"
     ]
    }
   ],
   "source": [
    "evaluation(model0,test_loader0,criterion)\n",
    "evaluation(model1,test_loader1,criterion)\n",
    "evaluation(model2,test_loader2,criterion)"
   ]
  },
  {
   "cell_type": "markdown",
   "metadata": {},
   "source": [
    "### Predictions"
   ]
  },
  {
   "cell_type": "code",
   "execution_count": 160,
   "metadata": {},
   "outputs": [],
   "source": [
    "def get_all_prediction(model, loader): \n",
    "    preds = []\n",
    "    targets = []\n",
    "    for data, label in loader:\n",
    "        data = data.to(device=device, dtype=torch.float32)\n",
    "        label = label.to(device=device, dtype=torch.float32)\n",
    "        with torch.no_grad():\n",
    "            output = model.forward(data)\n",
    "        targets = np.append(targets,label.numpy())\n",
    "        preds = np.append(preds, output.numpy())\n",
    "    return targets, preds"
   ]
  },
  {
   "cell_type": "code",
   "execution_count": 161,
   "metadata": {},
   "outputs": [
    {
     "name": "stdout",
     "output_type": "stream",
     "text": [
      "(19,)\n",
      "(26782,)\n",
      "(356081,)\n"
     ]
    }
   ],
   "source": [
    "# Get all predictions\n",
    "targets0, preds0 = get_all_prediction(model0, data_loader0)\n",
    "print(targets0.shape)\n",
    "targets1, preds1 = get_all_prediction(model1, data_loader1)\n",
    "print(targets1.shape)\n",
    "targets2, preds2 = get_all_prediction(model2, data_loader2)\n",
    "print(targets2.shape)"
   ]
  },
  {
   "cell_type": "code",
   "execution_count": 162,
   "metadata": {},
   "outputs": [],
   "source": [
    "def get_all_prediction_dataframe(models, X_all): \n",
    "    preds = []\n",
    "    for data in X_all:\n",
    "        data = torch.tensor(data).to(device=device, dtype=torch.float32)\n",
    "        with torch.no_grad():\n",
    "            if data[0] == 1:\n",
    "                output = models[0].forward(data[3:])\n",
    "            if data[1] == 1:\n",
    "                output = models[1].forward(data[3:])\n",
    "            if data[2] == 1:\n",
    "                output = models[2].forward(data[3:])\n",
    "        preds = np.append(preds, output.numpy())\n",
    "    return preds"
   ]
  },
  {
   "cell_type": "code",
   "execution_count": 163,
   "metadata": {},
   "outputs": [],
   "source": [
    "# THIS TAKES TOO MUCH TIME\n",
    "# models = [model0, model1, model2]\n",
    "# y_pred_NN = get_all_prediction_dataframe(models, X_all)\n",
    "# print(y_pred_NN.shape)"
   ]
  },
  {
   "attachments": {},
   "cell_type": "markdown",
   "metadata": {},
   "source": [
    "### Metrics:"
   ]
  },
  {
   "cell_type": "code",
   "execution_count": 167,
   "metadata": {},
   "outputs": [
    {
     "name": "stdout",
     "output_type": "stream",
     "text": [
      "Neural Network  R2 Coefficient : -0.220\n",
      "Neural Network  Explained Variance : 0.008\n"
     ]
    }
   ],
   "source": [
    "r2_nn  = (metrics.r2_score(targets0, preds0) + metrics.r2_score(targets1, preds1) + metrics.r2_score(targets2, preds2))/3\n",
    "var_nn = (metrics.explained_variance_score(targets0, preds0) + metrics.explained_variance_score(targets1, preds1) + metrics.explained_variance_score(targets2, preds2))/3\n",
    "\n",
    "print('Neural Network  R2 Coefficient : {0:.3f}'.format(r2_nn))\n",
    "print('Neural Network  Explained Variance : {0:.3f}'.format(var_nn))"
   ]
  },
  {
   "cell_type": "markdown",
   "metadata": {},
   "source": [
    "## Histograms"
   ]
  },
  {
   "cell_type": "code",
   "execution_count": 168,
   "metadata": {},
   "outputs": [],
   "source": [
    "# Denormalize output\n",
    "proportion_pred_0 = np.exp(preds0)-1\n",
    "# proportion_pred_0 = (preds0 - preds0.min()) / (preds0.max() - preds0.min())\n",
    "y_target_0        = (targets0)# - targets0.min()) / (targets0.max() - targets0.min())\n",
    "\n",
    "proportion_pred_1 = np.exp(preds1)-1\n",
    "# proportion_pred_1 = (preds1 - preds1.min()) / (preds1.max() - preds1.min())\n",
    "y_target_1        = (targets1)# - targets1.min()) / (targets1.max() - targets1.min())\n",
    "\n",
    "proportion_pred_2 = np.exp(preds2)-1\n",
    "# proportion_pred_2 = (preds2 - preds2.min()) / (preds2.max() - preds2.min())\n",
    "y_target_2        = (targets2)# - targets2.min()) / (targets2.max() - targets2.min())"
   ]
  },
  {
   "cell_type": "code",
   "execution_count": 170,
   "metadata": {},
   "outputs": [
    {
     "data": {
      "text/plain": [
       "<matplotlib.legend.Legend at 0x175b5af70>"
      ]
     },
     "execution_count": 170,
     "metadata": {},
     "output_type": "execute_result"
    },
    {
     "data": {
      "image/png": "[encoded data removed]",
      "text/plain": [
       "<Figure size 1000x1000 with 3 Axes>"
      ]
     },
     "metadata": {},
     "output_type": "display_data"
    }
   ],
   "source": [
    "import matplotlib.pyplot as plt\n",
    "\n",
    "bins = np.linspace(0, 1, 60)\n",
    "\n",
    "fig = plt.figure(figsize=(10,10))\n",
    "plt.suptitle(\"Histograms for each Class for NN for {:s} vehicles\".format(vehicle))\n",
    "\n",
    "plt.subplot(3,1,1)\n",
    "plt.hist(x=np.clip(y_target_0,0,1), bins=bins,alpha=0.5, rwidth=0.85, histtype='stepfilled', label='Original proportion')\n",
    "plt.hist(x=np.clip(proportion_pred_0,0,1), bins=bins, color='#0504aa',alpha=0.25, rwidth=0.85, histtype='stepfilled', label= 'Neural Network Estimation',log=True)\n",
    "plt.title('Histogram Class 0')\n",
    "plt.ylabel('Frequency')\n",
    "plt.legend()\n",
    "\n",
    "plt.subplot(3,1,2)\n",
    "plt.hist(x=y_target_1, bins=bins,alpha=0.5, rwidth=0.85, histtype='stepfilled', label='Original proportion', log=False)\n",
    "plt.hist(x=np.clip(proportion_pred_1,0,1), bins=bins, color='#0504aa',alpha=0.25, rwidth=0.85, histtype='stepfilled', label= 'Neural Network Estimation',log=True)\n",
    "plt.title('Histogram Class 1')\n",
    "plt.ylabel('Frequency')\n",
    "plt.legend()\n",
    "\n",
    "plt.subplot(3,1,3)\n",
    "plt.hist(x=y_target_2, bins=bins,alpha=0.5, rwidth=0.85, histtype='stepfilled', label='Original proportion')\n",
    "plt.hist(x=np.clip(proportion_pred_2,0,1), bins=bins, color='#0504aa',alpha=0.25, rwidth=0.85, histtype='stepfilled', label= 'Neural Network Estimation',log=True)\n",
    "plt.title('Histogram Class 2')\n",
    "plt.xlabel('Value')\n",
    "plt.ylabel('Frequency')\n",
    "plt.legend()\n",
    "\n",
    "# plt.text(23, 45, r'$\\mu=15, b=3$')\n",
    "# maxfreq = n.max()\n",
    "# Set a clean upper y-axis limit.\n",
    "# plt.ylim(ymax=np.ceil(maxfreq / 10) * 10 if maxfreq % 10 else maxfreq + 10)"
   ]
  },
  {
   "attachments": {},
   "cell_type": "markdown",
   "metadata": {},
   "source": [
    "# Export"
   ]
  },
  {
   "cell_type": "code",
   "execution_count": 218,
   "metadata": {},
   "outputs": [
    {
     "data": {
      "text/html": [
       "<div>\n",
       "<style scoped>\n",
       "    .dataframe tbody tr th:only-of-type {\n",
       "        vertical-align: middle;\n",
       "    }\n",
       "\n",
       "    .dataframe tbody tr th {\n",
       "        vertical-align: top;\n",
       "    }\n",
       "\n",
       "    .dataframe thead th {\n",
       "        text-align: right;\n",
       "    }\n",
       "</style>\n",
       "<table border=\"1\" class=\"dataframe\">\n",
       "  <thead>\n",
       "    <tr style=\"text-align: right;\">\n",
       "      <th></th>\n",
       "      <th>Id</th>\n",
       "      <th>Id_G</th>\n",
       "      <th>proportion</th>\n",
       "      <th>proportion_pred_Lin</th>\n",
       "      <th>proportion_pred_GB</th>\n",
       "      <th>proportion_pred_RF</th>\n",
       "      <th>proportion_pred_MLP</th>\n",
       "    </tr>\n",
       "    <tr>\n",
       "      <th>Id</th>\n",
       "      <th></th>\n",
       "      <th></th>\n",
       "      <th></th>\n",
       "      <th></th>\n",
       "      <th></th>\n",
       "      <th></th>\n",
       "      <th></th>\n",
       "    </tr>\n",
       "  </thead>\n",
       "  <tbody>\n",
       "    <tr>\n",
       "      <th>1</th>\n",
       "      <td>1.0</td>\n",
       "      <td>1.0</td>\n",
       "      <td>0.0</td>\n",
       "      <td>0.004932</td>\n",
       "      <td>0.002879</td>\n",
       "      <td>0.004434</td>\n",
       "      <td>0.000579</td>\n",
       "    </tr>\n",
       "    <tr>\n",
       "      <th>2</th>\n",
       "      <td>2.0</td>\n",
       "      <td>1.0</td>\n",
       "      <td>0.0</td>\n",
       "      <td>0.004932</td>\n",
       "      <td>0.002879</td>\n",
       "      <td>0.004434</td>\n",
       "      <td>0.000579</td>\n",
       "    </tr>\n",
       "    <tr>\n",
       "      <th>3</th>\n",
       "      <td>3.0</td>\n",
       "      <td>1.0</td>\n",
       "      <td>0.0</td>\n",
       "      <td>0.004932</td>\n",
       "      <td>0.002879</td>\n",
       "      <td>0.004434</td>\n",
       "      <td>0.000579</td>\n",
       "    </tr>\n",
       "    <tr>\n",
       "      <th>4</th>\n",
       "      <td>4.0</td>\n",
       "      <td>1.0</td>\n",
       "      <td>0.0</td>\n",
       "      <td>0.004932</td>\n",
       "      <td>0.002879</td>\n",
       "      <td>0.004434</td>\n",
       "      <td>0.000579</td>\n",
       "    </tr>\n",
       "    <tr>\n",
       "      <th>5</th>\n",
       "      <td>5.0</td>\n",
       "      <td>1.0</td>\n",
       "      <td>0.0</td>\n",
       "      <td>0.004932</td>\n",
       "      <td>0.002879</td>\n",
       "      <td>0.004434</td>\n",
       "      <td>0.000579</td>\n",
       "    </tr>\n",
       "    <tr>\n",
       "      <th>...</th>\n",
       "      <td>...</td>\n",
       "      <td>...</td>\n",
       "      <td>...</td>\n",
       "      <td>...</td>\n",
       "      <td>...</td>\n",
       "      <td>...</td>\n",
       "      <td>...</td>\n",
       "    </tr>\n",
       "    <tr>\n",
       "      <th>2370691</th>\n",
       "      <td>2370691.0</td>\n",
       "      <td>23814.0</td>\n",
       "      <td>0.0</td>\n",
       "      <td>0.004932</td>\n",
       "      <td>0.002879</td>\n",
       "      <td>0.004434</td>\n",
       "      <td>0.000579</td>\n",
       "    </tr>\n",
       "    <tr>\n",
       "      <th>2370692</th>\n",
       "      <td>2370692.0</td>\n",
       "      <td>23814.0</td>\n",
       "      <td>0.0</td>\n",
       "      <td>0.004932</td>\n",
       "      <td>0.002879</td>\n",
       "      <td>0.004434</td>\n",
       "      <td>0.000579</td>\n",
       "    </tr>\n",
       "    <tr>\n",
       "      <th>2370693</th>\n",
       "      <td>2370693.0</td>\n",
       "      <td>23814.0</td>\n",
       "      <td>0.0</td>\n",
       "      <td>0.004932</td>\n",
       "      <td>0.002879</td>\n",
       "      <td>0.004434</td>\n",
       "      <td>0.000579</td>\n",
       "    </tr>\n",
       "    <tr>\n",
       "      <th>2370694</th>\n",
       "      <td>2370694.0</td>\n",
       "      <td>23814.0</td>\n",
       "      <td>0.0</td>\n",
       "      <td>0.004932</td>\n",
       "      <td>0.002879</td>\n",
       "      <td>0.004434</td>\n",
       "      <td>0.000579</td>\n",
       "    </tr>\n",
       "    <tr>\n",
       "      <th>2370695</th>\n",
       "      <td>2370695.0</td>\n",
       "      <td>23814.0</td>\n",
       "      <td>0.0</td>\n",
       "      <td>0.004932</td>\n",
       "      <td>0.002879</td>\n",
       "      <td>0.004434</td>\n",
       "      <td>0.000579</td>\n",
       "    </tr>\n",
       "  </tbody>\n",
       "</table>\n",
       "<p>2370695 rows × 7 columns</p>\n",
       "</div>"
      ],
      "text/plain": [
       "                Id     Id_G  proportion  proportion_pred_Lin  \\\n",
       "Id                                                             \n",
       "1              1.0      1.0         0.0             0.004932   \n",
       "2              2.0      1.0         0.0             0.004932   \n",
       "3              3.0      1.0         0.0             0.004932   \n",
       "4              4.0      1.0         0.0             0.004932   \n",
       "5              5.0      1.0         0.0             0.004932   \n",
       "...            ...      ...         ...                  ...   \n",
       "2370691  2370691.0  23814.0         0.0             0.004932   \n",
       "2370692  2370692.0  23814.0         0.0             0.004932   \n",
       "2370693  2370693.0  23814.0         0.0             0.004932   \n",
       "2370694  2370694.0  23814.0         0.0             0.004932   \n",
       "2370695  2370695.0  23814.0         0.0             0.004932   \n",
       "\n",
       "         proportion_pred_GB  proportion_pred_RF  proportion_pred_MLP  \n",
       "Id                                                                    \n",
       "1                  0.002879            0.004434             0.000579  \n",
       "2                  0.002879            0.004434             0.000579  \n",
       "3                  0.002879            0.004434             0.000579  \n",
       "4                  0.002879            0.004434             0.000579  \n",
       "5                  0.002879            0.004434             0.000579  \n",
       "...                     ...                 ...                  ...  \n",
       "2370691            0.002879            0.004434             0.000579  \n",
       "2370692            0.002879            0.004434             0.000579  \n",
       "2370693            0.002879            0.004434             0.000579  \n",
       "2370694            0.002879            0.004434             0.000579  \n",
       "2370695            0.002879            0.004434             0.000579  \n",
       "\n",
       "[2370695 rows x 7 columns]"
      ]
     },
     "execution_count": 218,
     "metadata": {},
     "output_type": "execute_result"
    }
   ],
   "source": [
    "df_out = df.copy()\n",
    "df_out = df_out[['Id','Id_G','proportion']]\n",
    "\n",
    "df_out['proportion_pred_Lin'] = proportion_pred_Linear\n",
    "df_out['proportion_pred_GB'] = proportion_pred_GB\n",
    "df_out['proportion_pred_RF']  = proportion_pred_RF\n",
    "df_out['proportion_pred_MLP'] = proportion_pred_MLP\n",
    "#df_out['proportion_pred_SGD'] = proportion_pred_SGD\n",
    "# #df_out['proportion_pred_SV']  = proportion_pred_SV\n",
    "# df_out['proportion_pred_Ada'] = proportion_pred_Ada\n",
    "\n",
    "# df_out['proportion_pred_NN'] = pd.to_numeric(df_out['proportion_pred_NN'].map('{:.5f}'.format))\n",
    "# #df_out['proportion_pred_SGD'] = pd.to_numeric(df_out['proportion_pred_SGD'].map('{:.5f}'.format))\n",
    "# df_out['proportion_pred_MLP'] = pd.to_numeric(df_out['proportion_pred_MLP'].map('{:.5f}'.format))\n",
    "# df_out['proportion_pred_RF']  = pd.to_numeric(df_out['proportion_pred_RF'].map('{:.5f}'.format))\n",
    "# #df_out['proportion_pred_SV']  = pd.to_numeric(df_out['proportion_pred_SV'].map('{:.5f}'.format))\n",
    "# df_out['proportion_pred_Ada'] = pd.to_numeric(df_out['proportion_pred_Ada'].map('{:.5f}'.format))\n",
    "\n",
    "\n",
    "# # Add MSE to df\n",
    "# df_out['MSE'] = df_out.apply(lambda x: mean_squared_error(x['proportion'].reshape(-1,1), x['proportion_pred'].reshape(-1,1)), axis=1)\n",
    "#                 df_out.apply(lambda row: mean_squared_error(row['proportion'], row['proportion_pred']), axis=1)\n",
    "# df_out[df_out['Id_G']==5960]\n",
    "df_out"
   ]
  },
  {
   "cell_type": "code",
   "execution_count": 219,
   "metadata": {},
   "outputs": [],
   "source": [
    "df_out.to_csv(\"output/predictions_{:s}.csv\".format(vehicle), sep=\",\", decimal='.', index=False)"
   ]
  }
 ],
 "metadata": {
  "kernelspec": {
   "display_name": "Python 3 (ipykernel)",
   "language": "python",
   "name": "python3"
  },
  "language_info": {
   "codemirror_mode": {
    "name": "ipython",
    "version": 3
   },
   "file_extension": ".py",
   "mimetype": "text/x-python",
   "name": "python",
   "nbconvert_exporter": "python",
   "pygments_lexer": "ipython3",
   "version": "3.9.13"
  },
  "vscode": {
   "interpreter": {
    "hash": "5b420f98a94393bab1f162f677411b6ade872d07f468b65356434e6ce8e9bc28"
   }
  }
 },
 "nbformat": 4,
 "nbformat_minor": 2
}
